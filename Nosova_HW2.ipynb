{
  "nbformat": 4,
  "nbformat_minor": 0,
  "metadata": {
    "colab": {
      "name": "Nosova_HW2.ipynb",
      "provenance": []
    },
    "kernelspec": {
      "display_name": "Python 3",
      "language": "python",
      "name": "python3"
    },
    "language_info": {
      "codemirror_mode": {
        "name": "ipython",
        "version": 3
      },
      "file_extension": ".py",
      "mimetype": "text/x-python",
      "name": "python",
      "nbconvert_exporter": "python",
      "pygments_lexer": "ipython3",
      "version": "3.8.3"
    }
  },
  "cells": [
    {
      "cell_type": "markdown",
      "metadata": {
        "id": "UkE15x3AN1KS"
      },
      "source": [
        "Классификация текстов на категории"
      ]
    },
    {
      "cell_type": "code",
      "metadata": {
        "id": "AUaG8_EuJzjT"
      },
      "source": [
        "#модуль для загрузки данных, который было предложено использовать в этом домашнем задании\r\n",
        "!wget https://raw.githubusercontent.com/BobaZooba/HSE-Deep-Learning-in-NLP-Course/master/Week%203/data.py"
      ],
      "execution_count": null,
      "outputs": []
    },
    {
      "cell_type": "code",
      "metadata": {
        "id": "leWrpIhHNy9Z"
      },
      "source": [
        "import math\r\n",
        "import numpy as np\r\n",
        "\r\n",
        "from tqdm import tqdm\r\n",
        "\r\n",
        "import torch\r\n",
        "from torch.utils.data import Dataset, DataLoader\r\n",
        "from torch import nn\r\n",
        "from nltk.tokenize import word_tokenize, wordpunct_tokenize\r\n",
        "import zipfile\r\n",
        "import random\r\n",
        "from sklearn.metrics import f1_score\r\n",
        "from statistics import \r\n",
        "from sklearn.metrics import confusion_matrix\r\n",
        "\r\n",
        "from matplotlib import pyplot as plt\r\n",
        "import pylab as pl\r\n",
        "\r\n",
        "from data import Downloader, Parser"
      ],
      "execution_count": null,
      "outputs": []
    },
    {
      "cell_type": "markdown",
      "metadata": {
        "id": "Ivp72qo_OCxd"
      },
      "source": [
        "Скачаем эмбеддинги"
      ]
    },
    {
      "cell_type": "code",
      "metadata": {
        "id": "Z_sbAT1hjL3B"
      },
      "source": [
        "\n",
        "!wget https://dl.fbaipublicfiles.com/fasttext/vectors-english/wiki-news-300d-1M.vec.zip"
      ],
      "execution_count": null,
      "outputs": []
    },
    {
      "cell_type": "code",
      "metadata": {
        "id": "TgWPX-QVjQJ9"
      },
      "source": [
        "# путь к данным\n",
        "data_path = './data/'"
      ],
      "execution_count": null,
      "outputs": []
    },
    {
      "cell_type": "code",
      "metadata": {
        "colab": {
          "base_uri": "https://localhost:8080/",
          "height": 68
        },
        "id": "UymEeD0xjV5S",
        "outputId": "1bd588f7-9b4c-4ae5-dbad-2be02ffa38c0"
      },
      "source": [
        "downloader = Downloader(data_path=data_path)\n",
        "downloader.run()\n",
        "parser = Parser(data_path=data_path)\n",
        "unlabeled, train, valid = parser.run()"
      ],
      "execution_count": null,
      "outputs": [
        {
          "output_type": "stream",
          "text": [
            "single: 100%|██████████████████████████████████████████████████████████████████████████| 21/21 [00:01<00:00, 15.90it/s]\n",
            "multiple: 100%|████████████████████████████████████████████████████████████████████████| 17/17 [00:01<00:00, 16.03it/s]\n",
            "Reading: 100%|█████████████████████████████████████████████████████████████████████████| 38/38 [04:08<00:00,  6.55s/it]\n"
          ],
          "name": "stderr"
        }
      ]
    },
    {
      "cell_type": "code",
      "metadata": {
        "colab": {
          "base_uri": "https://localhost:8080/",
          "height": 34
        },
        "id": "qR_XPUpgjhPS",
        "outputId": "6e031a0d-1758-4d0c-d4f0-a95ddd6b7aa1"
      },
      "source": [
        "# проверим, что в трейне и валидации одинаковые категории\n",
        "set(train.category.unique().tolist()) == set(valid.category.unique().tolist())"
      ],
      "execution_count": null,
      "outputs": [
        {
          "output_type": "execute_result",
          "data": {
            "text/plain": [
              "True"
            ]
          },
          "metadata": {
            "tags": []
          },
          "execution_count": 90
        }
      ]
    },
    {
      "cell_type": "code",
      "metadata": {
        "colab": {
          "base_uri": "https://localhost:8080/",
          "height": 154
        },
        "id": "WexFVkE4jpOs",
        "outputId": "ac22ef34-23d8-40a5-ea72-373197197346"
      },
      "source": [
        "unique_categories = set(train.category.unique().tolist() + valid.category.unique().tolist())\n",
        "category2index = {category: index for index, category in enumerate(unique_categories)}\n",
        "category2index"
      ],
      "execution_count": null,
      "outputs": [
        {
          "output_type": "execute_result",
          "data": {
            "text/plain": [
              "{'grocery and gourmet food': 0,\n",
              " 'pet supplies': 1,\n",
              " 'cell phones and accessories': 2,\n",
              " 'beauty': 3,\n",
              " 'baby': 4,\n",
              " 'office products': 5,\n",
              " 'sports and outdoors': 6,\n",
              " 'automotive': 7}"
            ]
          },
          "metadata": {
            "tags": []
          },
          "execution_count": 91
        }
      ]
    },
    {
      "cell_type": "code",
      "metadata": {
        "id": "iUT5wTavj0rz"
      },
      "source": [
        "train['target'] = train.category.map(category2index)\n",
        "valid['target'] = valid.category.map(category2index)"
      ],
      "execution_count": null,
      "outputs": []
    },
    {
      "cell_type": "code",
      "metadata": {
        "id": "JgHA57cNj2Qp"
      },
      "source": [
        "class TextClassificationDataset(Dataset):\n",
        "    \n",
        "    def __init__(self, texts, targets):\n",
        "        super().__init__()\n",
        "        \n",
        "        self.texts = texts\n",
        "        self.targets = targets\n",
        "        \n",
        "    def __len__(self):\n",
        "        return len(self.texts)\n",
        "    \n",
        "    def __getitem__(self, index):\n",
        "        \n",
        "        text = self.texts[index]\n",
        "        target = self.targets[index]\n",
        "        \n",
        "        return text, target"
      ],
      "execution_count": null,
      "outputs": []
    },
    {
      "cell_type": "code",
      "metadata": {
        "id": "iY2Nw0mMlcD_"
      },
      "source": [
        "#Функция загрузки эмбеддингов взята из семинарской тетрадки\n",
        "def load_embeddings(zip_path, filename, pad_token='PAD', max_words=100_000, verbose=True):\n",
        "    \n",
        "    vocab = dict()\n",
        "    embeddings = list()\n",
        "\n",
        "    with zipfile.ZipFile(zip_path) as zipped_file:\n",
        "        with zipped_file.open(filename) as file_object:\n",
        "\n",
        "            vocab_size, embedding_dim = file_object.readline().decode('utf-8').strip().split()\n",
        "\n",
        "            vocab_size = int(vocab_size)\n",
        "            embedding_dim = int(embedding_dim)\n",
        "            \n",
        "            # в файле 1 000 000 слов с векторами, давайте ограничим для простоты этот словарь\n",
        "            max_words = vocab_size if max_words <= 0 else max_words \n",
        "            \n",
        "            # добавим пад токен и эмбеддинг в нашу матрицу эмбеддингов и словарь\n",
        "            vocab[pad_token] = len(vocab)\n",
        "            embeddings.append(np.zeros(embedding_dim))\n",
        "\n",
        "            progress_bar = tqdm(total=max_words, disable=not verbose)\n",
        "\n",
        "            for line in file_object:\n",
        "                parts = line.decode('utf-8').strip().split()\n",
        "\n",
        "                token = ' '.join(parts[:-embedding_dim]).lower()\n",
        "                \n",
        "                if token in vocab:\n",
        "                    continue\n",
        "                \n",
        "                word_vector = np.array(list(map(float, parts[-embedding_dim:])))\n",
        "\n",
        "                vocab[token] = len(vocab)\n",
        "                embeddings.append(word_vector)\n",
        "\n",
        "                progress_bar.update()\n",
        "                \n",
        "                if len(vocab) == max_words:\n",
        "                    break\n",
        "\n",
        "            progress_bar.close()\n",
        "\n",
        "    embeddings = np.stack(embeddings)\n",
        "    \n",
        "    return vocab, embeddings"
      ],
      "execution_count": null,
      "outputs": []
    },
    {
      "cell_type": "code",
      "metadata": {
        "colab": {
          "base_uri": "https://localhost:8080/",
          "height": 34
        },
        "id": "ga5tMz8Tloow",
        "outputId": "c5d7791b-f8fb-40bc-a5dc-ff35875adc75"
      },
      "source": [
        "vocab, embeddings = load_embeddings('D:\\ML_HSE\\wiki-news-300d-1M.vec.zip', 'wiki-news-300d-1M.vec', max_words=100_000)"
      ],
      "execution_count": null,
      "outputs": [
        {
          "output_type": "stream",
          "text": [
            "100%|████████████████████████████████████████████████████████████████████████▉| 99999/100000 [00:20<00:00, 4888.98it/s]\n"
          ],
          "name": "stderr"
        }
      ]
    },
    {
      "cell_type": "code",
      "metadata": {
        "id": "82ucwcKLKM0m"
      },
      "source": [
        "#переведем данные в формат, который будет принимать инициализация датасета\r\n",
        "train_x = list(train.question) \r\n",
        "train_y = list(train.target)\r\n",
        "\r\n",
        "valid_x = list(valid.question)\r\n",
        "valid_y = list(valid.targe"
      ],
      "execution_count": null,
      "outputs": []
    },
    {
      "cell_type": "code",
      "metadata": {
        "id": "J1YLKwQ_l0nY"
      },
      "source": [
        "class TextClassificationDataset(Dataset):\n",
        "    \n",
        "    def __init__(self, texts, targets, vocab, pad_index=0, max_length=32):\n",
        "        super().__init__()\n",
        "        \n",
        "        self.texts = texts\n",
        "        self.targets = targets\n",
        "        self.vocab = vocab\n",
        "        \n",
        "        self.pad_index = pad_index\n",
        "        self.max_length = max_length\n",
        "        \n",
        "    def __len__(self):\n",
        "        return len(self.texts)\n",
        "    \n",
        "    def tokenization(self, text):\n",
        "        \n",
        "        tokens = wordpunct_tokenize(text)\n",
        "        \n",
        "        token_indices = [self.vocab[tok] for tok in tokens if tok in self.vocab]\n",
        "        \n",
        "        return token_indices\n",
        "    \n",
        "    def padding(self, tokenized_text):\n",
        "        \n",
        "        tokenized_text = tokenized_text[:self.max_length]\n",
        "        \n",
        "        tokenized_text += [self.pad_index] * (self.max_length - len(tokenized_text))\n",
        "        \n",
        "        return tokenized_text\n",
        "    \n",
        "    def __getitem__(self, index):\n",
        "        text = self.texts[index]        \n",
        "        target = self.targets[index]\n",
        "        \n",
        "        tokenized_text = self.tokenization(text)\n",
        "        tokenized_text = self.padding(tokenized_text)\n",
        "        \n",
        "        tokenized_text = torch.tensor(tokenized_text)\n",
        "        \n",
        "        return tokenized_text, target"
      ],
      "execution_count": null,
      "outputs": []
    },
    {
      "cell_type": "code",
      "metadata": {
        "id": "ztJ5f9X6l9p8"
      },
      "source": [
        "train_dataset = TextClassificationDataset(texts=train_x, targets=train_y, vocab=vocab)\n",
        "valid_dataset = TextClassificationDataset(texts=valid_x, targets=valid_y, vocab=vocab)\n"
      ],
      "execution_count": null,
      "outputs": []
    },
    {
      "cell_type": "code",
      "metadata": {
        "id": "wSJiTs3hNx4W"
      },
      "source": [
        "train_loader = DataLoader(train_dataset, batch_size=128, shuffle=True)\n",
        "valid_loader = DataLoader(valid_dataset, batch_size=128, shuffle=True)"
      ],
      "execution_count": null,
      "outputs": []
    },
    {
      "cell_type": "code",
      "metadata": {
        "id": "-3ZaV_8zNx4W"
      },
      "source": [
        "class DeepAverageNetwork(nn.Module):\n",
        "    \n",
        "    def __init__(self, embeddings, n_classes):\n",
        "        super().__init__()\n",
        "        self.embedding_layer = nn.Embedding(num_embeddings=len(vocab),  embedding_dim=300, padding_idx=0)\n",
        "        self.dropout = nn.Dropout(p=0.1)\n",
        "        self.batch_norm = nn.BatchNorm1d(num_features=300)\n",
        "\n",
        "        self.cnn_1_1 = torch.nn.Conv1d(in_channels=embeddings.shape[-1], out_channels=200, kernel_size=5)\n",
        "        self.cnn_1_2 = torch.nn.Conv1d(in_channels=200, out_channels=200, kernel_size=3)\n",
        "        self.batch_norm1 = nn.BatchNorm1d(num_features=200)\n",
        "\n",
        "        self.cnn_2_1 = torch.nn.Conv1d(in_channels=200, out_channels=100, kernel_size=2)\n",
        "        self.cnn_2_2 = torch.nn.Conv1d(in_channels=200, out_channels=100, kernel_size=4)\n",
        "\n",
        "        self.max_pooling_kernel2 =torch.nn.MaxPool1d(kernel_size = 2)\n",
        "\n",
        "        self.cnn_n_classes = torch.nn.Conv1d(in_channels = 200, out_channels=n_classes, kernel_size=1)\n",
        "        self.batch_norm2 = nn.BatchNorm1d(num_features=n_classes)\n",
        "        \n",
        "        self.lstm = torch.nn.LSTM(input_size=13, hidden_size=13, bidirectional=True, batch_first=True, num_layers=1)\n",
        "        self.final_pooling = torch.nn.MaxPool1d(kernel_size = 13) #берем максимальное значение для каждго направлени считывания\n",
        "\n",
        "       \n",
        "    def forward(self, x):\n",
        "        x = self.embedding_layer(x)\n",
        "        x = x.transpose(-1, -2)\n",
        "        x = self.batch_norm(x)\n",
        "\n",
        "        x = self.cnn_1_1(x)\n",
        "        x = torch.relu(x)\n",
        "        x = torch.cat((self.cnn_1_2(x), torch.zeros(x.size(0), 200, 2)), dim=2) + x\n",
        "        x = torch.relu(x)\n",
        "        x = self.batch_norm1(x)\n",
        "        x = self.dropout(x)\n",
        "\n",
        "        #применяем паралельные свертки \n",
        "        x = torch.cat((self.max_pooling_kernel2(self.cnn_2_1(x)),  torch.cat((self.max_pooling_kernel2(self.cnn_2_2(x)), torch.zeros(x.size(0), 100, 1)), dim=2)), dim=1)\n",
        "\n",
        "        x = self.cnn_n_classes(x)\n",
        "        x = self.batch_norm2(x)\n",
        "        \n",
        "        #Sparital dropout\n",
        "        if self.training:\n",
        "            for i in x:\n",
        "                for j in i.t():\n",
        "                    if random.random() < 0.1:\n",
        "                        j *= 0\n",
        "            \n",
        "\n",
        "        x = self.lstm(x)[0]\n",
        "        x = self.final_pooling(x)\n",
        "        x = torch.mean(x,  2) \n",
        "        return x\n",
        "   \n",
        "    def predict(self, x):\n",
        "        self.eval()\n",
        "        with torch.no_grad():\n",
        "            outputs = self.forward(x)\n",
        "            predictions = torch.softmax(output, 1)\n",
        "        return torch.max(predictions,1).indices"
      ],
      "execution_count": null,
      "outputs": []
    },
    {
      "cell_type": "code",
      "metadata": {
        "id": "AQz1jRrEXB7R"
      },
      "source": [
        "def train_epoch(model, loader, criterion, optimizer):\r\n",
        "  train_losses = []\r\n",
        "  train_f1 = []\r\n",
        "  model.train()\r\n",
        "  current_epoch_iterations = 0\r\n",
        "  for x, y in train_loader:\r\n",
        "      output = model(x)\r\n",
        "      loss = criterion(output, y)\r\n",
        "      train_losses.append(float(loss))\r\n",
        "      predictions = torch.softmax(output, 1)\r\n",
        "      train_f1.append(f1_score(torch.max(predictions, 1)[1], y, average='micro'))\r\n",
        "      optimizer.zero_grad()\r\n",
        "      loss.backward()\r\n",
        "      optimizer.step()\r\n",
        "      current_epoch_iterations  += 1\r\n",
        "  return train_losses, train_f1\r\n",
        "      "
      ],
      "execution_count": null,
      "outputs": []
    },
    {
      "cell_type": "code",
      "metadata": {
        "id": "Ua9JAhJXYqsv"
      },
      "source": [
        "def valid(model, valid_loader, max_valid_iterations=10):\r\n",
        "    valid_losses = []\r\n",
        "    valid_f1 = []\r\n",
        "    n_valid=0\r\n",
        "    model.eval()\r\n",
        "    with torch.no_grad():\r\n",
        "        for x, y in valid_loader:\r\n",
        "            output = model.forward(x)\r\n",
        "            loss = criterion(output, y)\r\n",
        "            valid_losses.append(float(loss))\r\n",
        "            predictions = torch.softmax(output, 1)\r\n",
        "            valid_f1.append(f1_score(torch.max(predictions, 1)[1], y, average='micro'))\r\n",
        "            n_valid += 1\r\n",
        "            if n_valid == max_valid_iterations:\r\n",
        "                break\r\n",
        "    return valid_losses, valid_f1"
      ],
      "execution_count": null,
      "outputs": []
    },
    {
      "cell_type": "code",
      "metadata": {
        "id": "4LRjv5cQNx4a"
      },
      "source": [
        "criterion = nn.CrossEntropyLoss()\n",
        "test_model = DeepAverageNetwork(embeddings=embeddings, n_classes=len(category2index))\n",
        "#для эмбеддингов (при инициализации использованы предобученные эмбеддинги) установим меньший learning rate, чем для остальных слоев\n",
        "optimizer = torch.optim.Adam([ {'params': test_model.embedding_layer.parameters(), 'lr': 1e-6},\n",
        "                              {'params': test_model.cnn_1_2.parameters()},\n",
        "                              {'params': test_model.cnn_2_1.parameters()},\n",
        "                              {'params': test_model.cnn_2_2.parameters()},\n",
        "                              {'params': test_model.lstm.parameters()}], \n",
        "                               lr = 1e-3)"
      ],
      "execution_count": null,
      "outputs": []
    },
    {
      "cell_type": "code",
      "metadata": {
        "id": "zIM8cLCWpW_W"
      },
      "source": [
        "train_losses = []\r\n",
        "train_epoch_losses = []\r\n",
        "valid_epoch_losses = []\r\n",
        "\r\n",
        "train_f1 = []\r\n",
        "train_epoch_f1 = []\r\n",
        "valid_epoch_f1 = []\r\n",
        "n_epochs = 15\r\n",
        "for epoch in tqdm(range(n_epochs)):\r\n",
        "    current_epoch_train_losses, current_epoch_train_f1 = train_epoch(model, train_loader, criterion, optimizer, train_losses)\r\n",
        "    mean_train_loss = mean(current_epoch_train_losses)\r\n",
        "    train_losses += current_epoch_train_losses\r\n",
        "    tqdm.write(str(mean_train_loss))\r\n",
        "    train_epoch_losses.append(mean_train_loss)\r\n",
        "    train_epoch_f1.append(mean(current_epoch_train_f1))\r\n",
        "    current_epoch_valid_losses, current_epoch_valid_f1 = valid(model, valid_loader)\r\n",
        "    valid_epoch_losses.append(mean(current_epoch_valid_losses))\r\n",
        "    valid_epoch_f1.append(mean(current_epoch_valid_f1))\r\n",
        "    ##ранняя остановка, если две эпохи подряд не улучшается f-мера на валидации\r\n",
        "    if len(valid_epoch_f1) > 1:\r\n",
        "        if valid_epoch_f1[-2] >  valid_epoch_f1[-1]:\r\n",
        "            not_better_epochs_counter +=1\r\n",
        "        else:\r\n",
        "            not_better_epochs_counter = 0   \r\n",
        "    if not_better_epochs_counter == 2:\r\n",
        "        break"
      ],
      "execution_count": null,
      "outputs": []
    },
    {
      "cell_type": "code",
      "metadata": {
        "id": "hg0dW-VxNx4f",
        "outputId": "f0b82450-ab27-4fcb-825a-adb70ccdf433"
      },
      "source": [
        "plt.figure(figsize=(14, 12))\n",
        "plt.plot(train_epoch_losses, 'b')\n",
        "plt.plot(valid_epoch_losses, 'r')\n",
        "plt.grid()"
      ],
      "execution_count": null,
      "outputs": [
        {
          "output_type": "display_data",
          "data": {
            "image/png": "[encoded data removed]",
            "text/plain": [
              "<Figure size 1008x864 with 1 Axes>"
            ]
          },
          "metadata": {
            "tags": [],
            "needs_background": "light"
          }
        }
      ]
    },
    {
      "cell_type": "code",
      "metadata": {
        "id": "McRDEsXdNx4f",
        "outputId": "61d73ec3-4d92-43a3-89e2-e807fa17f0c3"
      },
      "source": [
        "plt.figure(figsize=(14, 12))\n",
        "plt.plot(train_epoch_f1, 'b')\n",
        "plt.plot(valid_epoch_f1, 'r')\n",
        "plt.grid()"
      ],
      "execution_count": null,
      "outputs": [
        {
          "output_type": "display_data",
          "data": {
            "image/png": "[encoded data removed]",
            "text/plain": [
              "<Figure size 1008x864 with 1 Axes>"
            ]
          },
          "metadata": {
            "tags": [],
            "needs_background": "light"
          }
        }
      ]
    },
    {
      "cell_type": "markdown",
      "metadata": {
        "id": "ZShnLuE6nleS"
      },
      "source": [
        "Чтобы посмотреть на качество предсказаний по классам, построим confusion_matrix"
      ]
    },
    {
      "cell_type": "code",
      "metadata": {
        "id": "PvEcL5efNx4g"
      },
      "source": [
        "iterations = 0\n",
        "for x, y in valid_loader:\n",
        "    y4matrix = [int(i) for i in y]\n",
        "    pred4matrix = [int(i) for i in test_model.predict(x)]\n",
        "    iterations += 1\n",
        "    if iterations == 20:\n",
        "        break"
      ],
      "execution_count": null,
      "outputs": []
    },
    {
      "cell_type": "code",
      "metadata": {
        "id": "2O-khF8WNx4g"
      },
      "source": [
        "cm = confusion_matrix(y4matrix, pred4matrix)"
      ],
      "execution_count": null,
      "outputs": []
    },
    {
      "cell_type": "code",
      "metadata": {
        "id": "gH5LJcgLNx4g",
        "outputId": "9ca7d043-b5dc-4091-9b0d-54c7b0a4ab9f"
      },
      "source": [
        "import pylab as pl\n",
        "pl.matshow(cm)\n",
        "pl.title('Confusion matrix of the classifier')\n",
        "pl.colorbar()\n",
        "pl.show()"
      ],
      "execution_count": null,
      "outputs": [
        {
          "output_type": "display_data",
          "data": {
            "image/png": "[encoded data removed]",
            "text/plain": [
              "<Figure size 288x288 with 2 Axes>"
            ]
          },
          "metadata": {
            "tags": [],
            "needs_background": "light"
          }
        }
      ]
    },
    {
      "cell_type": "markdown",
      "metadata": {
        "id": "BWEkmxmkNx4h"
      },
      "source": [
        "F-мера получилась довольно низкой,  в данных был дисбаланс классов + модель часто ошибается (клетка с наибольшим значением соответствует правильному ответу, но не на всех батчах получается так); при перезапусках на других батчах наблюдалась такая же ситуация, но клетка с максимумом не была постоянной. диагональ никогда не была отчетливо выражена - видимо, улушение метрик происходило в основном за счет преобладающего класса\n",
        "\n",
        "К сожалению, из-за того, что эпоха обучалась долго, не получилось попробовать разные конфигурации сети. Из изменений, которые я совершала, лучше всего на результате сказалось добавление дропаутов и нормализации по батчу (добавляла одновременно, поэтому сравнить их вклад не могу). До добавление дропаута перед lstm валидация быстро начинала уступать трейну\n",
        "\n",
        "Иногда получалось, что ф-мера на валидации долго колебалась вокруг одной точки, но не попадала в условие остновки, так как не падала две эпохи подряд. Наверно, стоил подобрать какое-то количественное условие прекращения.\n",
        "\n"
      ]
    }
  ]
}